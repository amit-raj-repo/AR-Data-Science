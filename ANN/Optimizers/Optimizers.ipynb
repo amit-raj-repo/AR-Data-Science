{
  "nbformat": 4,
  "nbformat_minor": 0,
  "metadata": {
    "colab": {
      "name": "Optimizers.ipynb",
      "provenance": []
    },
    "kernelspec": {
      "name": "python3",
      "display_name": "Python 3"
    }
  },
  "cells": [
    {
      "cell_type": "code",
      "metadata": {
        "id": "cUYtbyTprMkp",
        "colab_type": "code",
        "colab": {}
      },
      "source": [
        "import tensorflow as tf\n",
        "import pandas as pd\n",
        "import numpy as np\n",
        "\n",
        "from sklearn.model_selection import train_test_split\n",
        "\n",
        "from keras.models import Sequential\n",
        "from keras.layers import Dense\n",
        "from keras.utils import to_categorical\n",
        "from keras.optimizers import SGD, Adagrad, Adadelta, RMSprop, Adam"
      ],
      "execution_count": 0,
      "outputs": []
    },
    {
      "cell_type": "code",
      "metadata": {
        "id": "1367bOXG3V-W",
        "colab_type": "code",
        "outputId": "d4298053-a573-4c0f-f84c-029e82a01313",
        "colab": {
          "base_uri": "https://localhost:8080/",
          "height": 122
        }
      },
      "source": [
        "from google.colab import drive\n",
        "drive.mount('/content/gdrive')"
      ],
      "execution_count": 3,
      "outputs": [
        {
          "output_type": "stream",
          "text": [
            "Go to this URL in a browser: https://accounts.google.com/o/oauth2/auth?client_id=947318989803-6bn6qk8qdgf4n4g3pfee6491hc0brc4i.apps.googleusercontent.com&redirect_uri=urn%3aietf%3awg%3aoauth%3a2.0%3aoob&response_type=code&scope=email%20https%3a%2f%2fwww.googleapis.com%2fauth%2fdocs.test%20https%3a%2f%2fwww.googleapis.com%2fauth%2fdrive%20https%3a%2f%2fwww.googleapis.com%2fauth%2fdrive.photos.readonly%20https%3a%2f%2fwww.googleapis.com%2fauth%2fpeopleapi.readonly\n",
            "\n",
            "Enter your authorization code:\n",
            "··········\n",
            "Mounted at /content/gdrive\n"
          ],
          "name": "stdout"
        }
      ]
    },
    {
      "cell_type": "code",
      "metadata": {
        "id": "F1tWN3-u3Z9m",
        "colab_type": "code",
        "colab": {}
      },
      "source": [
        "base_data = pd.read_csv('/content/gdrive/My Drive/Colab Notebooks/Datasets/all_data_imputed_v2_pca.csv')"
      ],
      "execution_count": 0,
      "outputs": []
    },
    {
      "cell_type": "code",
      "metadata": {
        "id": "A0ImNXoI1UXh",
        "colab_type": "code",
        "colab": {}
      },
      "source": [
        "# from google.colab import files\n",
        "# uploaded = files.upload()"
      ],
      "execution_count": 0,
      "outputs": []
    },
    {
      "cell_type": "code",
      "metadata": {
        "id": "mCi51Oey5J1C",
        "colab_type": "code",
        "colab": {}
      },
      "source": [
        "X = base_data.iloc[:, :-1].values\n",
        "y = base_data.iloc[:, -1].values"
      ],
      "execution_count": 0,
      "outputs": []
    },
    {
      "cell_type": "code",
      "metadata": {
        "id": "0RV8PRdUJpW_",
        "colab_type": "code",
        "colab": {}
      },
      "source": [
        "#split datasets into training and test\n",
        "X_train, X_test, y_train, y_test = train_test_split(X, y, test_size=0.15, random_state=3)"
      ],
      "execution_count": 0,
      "outputs": []
    },
    {
      "cell_type": "code",
      "metadata": {
        "id": "7cOVNWOEH9rE",
        "colab_type": "code",
        "outputId": "e5a49083-daf4-442e-a8d5-81f916bccced",
        "colab": {
          "base_uri": "https://localhost:8080/",
          "height": 34
        }
      },
      "source": [
        "X_train.shape"
      ],
      "execution_count": 30,
      "outputs": [
        {
          "output_type": "execute_result",
          "data": {
            "text/plain": [
              "(144125, 25)"
            ]
          },
          "metadata": {
            "tags": []
          },
          "execution_count": 30
        }
      ]
    },
    {
      "cell_type": "code",
      "metadata": {
        "id": "2eYbUP6Q4UhS",
        "colab_type": "code",
        "colab": {}
      },
      "source": [
        "model = Sequential()"
      ],
      "execution_count": 0,
      "outputs": []
    },
    {
      "cell_type": "code",
      "metadata": {
        "id": "5ZqKjdr440gi",
        "colab_type": "code",
        "colab": {}
      },
      "source": [
        "model.add(Dense(units = 64, activation = 'relu', input_shape = (25,)))\n",
        "model.add(Dense(units = 32, activation= 'relu'))\n",
        "model.add(Dense(units = 16, activation= 'relu'))\n",
        "model.add(Dense(units = 8, activation= 'relu'))\n",
        "model.add(Dense(units = 4, activation= 'relu'))\n",
        "model.add(Dense(units= 1, activation='sigmoid'))"
      ],
      "execution_count": 0,
      "outputs": []
    },
    {
      "cell_type": "code",
      "metadata": {
        "id": "SFkdSu-OkivD",
        "colab_type": "code",
        "colab": {}
      },
      "source": [
        "Sgd = SGD(learning_rate= 0.01, momentum= 0.9)\n",
        "adaGrad = Adagrad(learning_rate= 0.01)\n",
        "adaDelta = Adadelta(learning_rate= 0.5, rho = 0.99)\n",
        "adam = Adam(learning_rate= 0.01, beta_1 = 0.9, beta_2 = 0.99)"
      ],
      "execution_count": 0,
      "outputs": []
    },
    {
      "cell_type": "code",
      "metadata": {
        "id": "VRu1cYm9Mlua",
        "colab_type": "code",
        "colab": {
          "base_uri": "https://localhost:8080/",
          "height": 374
        },
        "outputId": "665c1f5b-d91e-48ff-ae8d-a3b1ceac4f2c"
      },
      "source": [
        "model.compile(optimizer= Sgd, loss= 'binary_crossentropy', metrics= ['accuracy'])\n",
        "model.fit(X_train, y_train, batch_size= 128, epochs= 10, verbose= 1)"
      ],
      "execution_count": 48,
      "outputs": [
        {
          "output_type": "stream",
          "text": [
            "Epoch 1/10\n",
            "144125/144125 [==============================] - 1s 10us/step - loss: 0.5428 - accuracy: 0.7620\n",
            "Epoch 2/10\n",
            "144125/144125 [==============================] - 1s 9us/step - loss: 0.5484 - accuracy: 0.7621\n",
            "Epoch 3/10\n",
            "144125/144125 [==============================] - 1s 9us/step - loss: 0.5486 - accuracy: 0.7621\n",
            "Epoch 4/10\n",
            "144125/144125 [==============================] - 1s 9us/step - loss: 0.5413 - accuracy: 0.7623\n",
            "Epoch 5/10\n",
            "144125/144125 [==============================] - 1s 9us/step - loss: 0.5234 - accuracy: 0.7626\n",
            "Epoch 6/10\n",
            "144125/144125 [==============================] - 1s 9us/step - loss: 0.5197 - accuracy: 0.7628\n",
            "Epoch 7/10\n",
            "144125/144125 [==============================] - 1s 9us/step - loss: 0.5146 - accuracy: 0.7629\n",
            "Epoch 8/10\n",
            "144125/144125 [==============================] - 1s 9us/step - loss: 0.5094 - accuracy: 0.7632\n",
            "Epoch 9/10\n",
            "144125/144125 [==============================] - 1s 9us/step - loss: 0.5042 - accuracy: 0.7636\n",
            "Epoch 10/10\n",
            "144125/144125 [==============================] - 1s 9us/step - loss: 0.5037 - accuracy: 0.7639\n"
          ],
          "name": "stdout"
        },
        {
          "output_type": "execute_result",
          "data": {
            "text/plain": [
              "<keras.callbacks.callbacks.History at 0x7fbb6526a630>"
            ]
          },
          "metadata": {
            "tags": []
          },
          "execution_count": 48
        }
      ]
    },
    {
      "cell_type": "code",
      "metadata": {
        "id": "C5TlTJ6slm5M",
        "colab_type": "code",
        "colab": {
          "base_uri": "https://localhost:8080/",
          "height": 374
        },
        "outputId": "523c549f-3921-4979-d604-6314dc325193"
      },
      "source": [
        "model.compile(optimizer= adaGrad, loss= 'binary_crossentropy', metrics= ['accuracy'])\n",
        "model.fit(X_train, y_train, batch_size= 128, epochs= 10)"
      ],
      "execution_count": 51,
      "outputs": [
        {
          "output_type": "stream",
          "text": [
            "Epoch 1/10\n",
            "144125/144125 [==============================] - 1s 10us/step - loss: 0.5110 - accuracy: 0.7635\n",
            "Epoch 2/10\n",
            "144125/144125 [==============================] - 1s 10us/step - loss: 0.4710 - accuracy: 0.7868\n",
            "Epoch 3/10\n",
            "144125/144125 [==============================] - 1s 10us/step - loss: 0.4384 - accuracy: 0.8043\n",
            "Epoch 4/10\n",
            "144125/144125 [==============================] - 1s 10us/step - loss: 0.4191 - accuracy: 0.8113\n",
            "Epoch 5/10\n",
            "144125/144125 [==============================] - 1s 10us/step - loss: 0.4047 - accuracy: 0.8166\n",
            "Epoch 6/10\n",
            "144125/144125 [==============================] - 1s 10us/step - loss: 0.3879 - accuracy: 0.8265\n",
            "Epoch 7/10\n",
            "144125/144125 [==============================] - 1s 10us/step - loss: 0.3656 - accuracy: 0.8432\n",
            "Epoch 8/10\n",
            "144125/144125 [==============================] - 1s 10us/step - loss: 0.3370 - accuracy: 0.8656\n",
            "Epoch 9/10\n",
            "144125/144125 [==============================] - 1s 10us/step - loss: 0.3137 - accuracy: 0.8815\n",
            "Epoch 10/10\n",
            "144125/144125 [==============================] - 1s 10us/step - loss: 0.2989 - accuracy: 0.8895\n"
          ],
          "name": "stdout"
        },
        {
          "output_type": "execute_result",
          "data": {
            "text/plain": [
              "<keras.callbacks.callbacks.History at 0x7fbb6526a208>"
            ]
          },
          "metadata": {
            "tags": []
          },
          "execution_count": 51
        }
      ]
    },
    {
      "cell_type": "code",
      "metadata": {
        "id": "E2k_LKYPQokp",
        "colab_type": "code",
        "outputId": "918be6b1-fe7b-40dc-968c-91875388909e",
        "colab": {
          "base_uri": "https://localhost:8080/",
          "height": 374
        }
      },
      "source": [
        "model.compile(optimizer= adaDelta, loss= 'binary_crossentropy', metrics= ['accuracy'])\n",
        "model.fit(X_train, y_train, batch_size= 128, epochs= 10)"
      ],
      "execution_count": 54,
      "outputs": [
        {
          "output_type": "stream",
          "text": [
            "Epoch 1/10\n",
            "144125/144125 [==============================] - 2s 11us/step - loss: 0.5632 - accuracy: 0.7576\n",
            "Epoch 2/10\n",
            "144125/144125 [==============================] - 1s 10us/step - loss: 0.4984 - accuracy: 0.7668\n",
            "Epoch 3/10\n",
            "144125/144125 [==============================] - 1s 10us/step - loss: 0.4742 - accuracy: 0.7818\n",
            "Epoch 4/10\n",
            "144125/144125 [==============================] - 1s 10us/step - loss: 0.4443 - accuracy: 0.8053\n",
            "Epoch 5/10\n",
            "144125/144125 [==============================] - 1s 10us/step - loss: 0.4331 - accuracy: 0.8025\n",
            "Epoch 6/10\n",
            "144125/144125 [==============================] - 1s 10us/step - loss: 0.4065 - accuracy: 0.8245\n",
            "Epoch 7/10\n",
            "144125/144125 [==============================] - 1s 10us/step - loss: 0.3274 - accuracy: 0.8742\n",
            "Epoch 8/10\n",
            "144125/144125 [==============================] - 1s 10us/step - loss: 0.2828 - accuracy: 0.8962\n",
            "Epoch 9/10\n",
            "144125/144125 [==============================] - 1s 10us/step - loss: 0.2707 - accuracy: 0.8992\n",
            "Epoch 10/10\n",
            "144125/144125 [==============================] - 1s 10us/step - loss: 0.2595 - accuracy: 0.9032\n"
          ],
          "name": "stdout"
        },
        {
          "output_type": "execute_result",
          "data": {
            "text/plain": [
              "<keras.callbacks.callbacks.History at 0x7fbb64e587f0>"
            ]
          },
          "metadata": {
            "tags": []
          },
          "execution_count": 54
        }
      ]
    },
    {
      "cell_type": "code",
      "metadata": {
        "id": "qWDW-x7Rlvh8",
        "colab_type": "code",
        "colab": {
          "base_uri": "https://localhost:8080/",
          "height": 374
        },
        "outputId": "b6c4d46d-52b6-46b4-929f-4193c047c7d7"
      },
      "source": [
        "model.compile(optimizer= adam, loss= 'binary_crossentropy', metrics= ['accuracy'])\n",
        "model.fit(X_train, y_train, batch_size= 128, epochs= 10)"
      ],
      "execution_count": 55,
      "outputs": [
        {
          "output_type": "stream",
          "text": [
            "Epoch 1/10\n",
            "144125/144125 [==============================] - 2s 11us/step - loss: 0.2857 - accuracy: 0.8946\n",
            "Epoch 2/10\n",
            "144125/144125 [==============================] - 1s 10us/step - loss: 0.2549 - accuracy: 0.9074\n",
            "Epoch 3/10\n",
            "144125/144125 [==============================] - 1s 10us/step - loss: 0.2377 - accuracy: 0.9132\n",
            "Epoch 4/10\n",
            "144125/144125 [==============================] - 1s 10us/step - loss: 0.2276 - accuracy: 0.9166\n",
            "Epoch 5/10\n",
            "144125/144125 [==============================] - 1s 10us/step - loss: 0.2219 - accuracy: 0.9183\n",
            "Epoch 6/10\n",
            "144125/144125 [==============================] - 1s 10us/step - loss: 0.2195 - accuracy: 0.9185\n",
            "Epoch 7/10\n",
            "144125/144125 [==============================] - 1s 10us/step - loss: 0.2156 - accuracy: 0.9202\n",
            "Epoch 8/10\n",
            "144125/144125 [==============================] - 1s 10us/step - loss: 0.2122 - accuracy: 0.9204\n",
            "Epoch 9/10\n",
            "144125/144125 [==============================] - 1s 10us/step - loss: 0.2092 - accuracy: 0.9207\n",
            "Epoch 10/10\n",
            "144125/144125 [==============================] - 1s 10us/step - loss: 0.2080 - accuracy: 0.9218\n"
          ],
          "name": "stdout"
        },
        {
          "output_type": "execute_result",
          "data": {
            "text/plain": [
              "<keras.callbacks.callbacks.History at 0x7fbb64d656d8>"
            ]
          },
          "metadata": {
            "tags": []
          },
          "execution_count": 55
        }
      ]
    },
    {
      "cell_type": "code",
      "metadata": {
        "id": "72zx3MGrRIu_",
        "colab_type": "code",
        "outputId": "729ea94a-416c-469d-dbcb-498dca02277c",
        "colab": {
          "base_uri": "https://localhost:8080/",
          "height": 34
        }
      },
      "source": [
        "loss_and_metrics = model.evaluate(X_test, y_test, batch_size=128)"
      ],
      "execution_count": 0,
      "outputs": [
        {
          "output_type": "stream",
          "text": [
            "25434/25434 [==============================] - 0s 6us/step\n"
          ],
          "name": "stdout"
        }
      ]
    },
    {
      "cell_type": "code",
      "metadata": {
        "id": "C3chu42cUSDU",
        "colab_type": "code",
        "outputId": "94badefd-e32b-4348-bbf0-5576507e3153",
        "colab": {
          "base_uri": "https://localhost:8080/",
          "height": 34
        }
      },
      "source": [
        "print(loss_and_metrics)"
      ],
      "execution_count": 0,
      "outputs": [
        {
          "output_type": "stream",
          "text": [
            "[0.2944427154682301, 0.8707242012023926]\n"
          ],
          "name": "stdout"
        }
      ]
    }
  ]
}