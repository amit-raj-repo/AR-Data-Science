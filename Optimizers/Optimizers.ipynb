{
  "nbformat": 4,
  "nbformat_minor": 0,
  "metadata": {
    "colab": {
      "name": "Optimizers.ipynb",
      "provenance": []
    },
    "kernelspec": {
      "name": "python3",
      "display_name": "Python 3"
    }
  },
  "cells": [
    {
      "cell_type": "code",
      "metadata": {
        "id": "cUYtbyTprMkp",
        "colab_type": "code",
        "colab": {}
      },
      "source": [
        "import tensorflow as tf\n",
        "import pandas as pd\n",
        "import numpy as np\n",
        "\n",
        "from sklearn.model_selection import train_test_split\n",
        "\n",
        "from keras.models import Sequential\n",
        "from keras.layers import Dense\n",
        "from keras.utils import to_categorical\n",
        "from keras.optimizers import SGD, Adagrad, Adadelta, RMSprop, Adam"
      ],
      "execution_count": 0,
      "outputs": []
    },
    {
      "cell_type": "code",
      "metadata": {
        "id": "1367bOXG3V-W",
        "colab_type": "code",
        "outputId": "d4298053-a573-4c0f-f84c-029e82a01313",
        "colab": {
          "base_uri": "https://localhost:8080/",
          "height": 122
        }
      },
      "source": [
        "from google.colab import drive\n",
        "drive.mount('/content/gdrive')"
      ],
      "execution_count": 3,
      "outputs": [
        {
          "output_type": "stream",
          "text": [
            "Go to this URL in a browser: \n",
            "\n",
            "Enter your authorization code:\n",
            "··········\n",
            "Mounted at /content/gdrive\n"
          ],
          "name": "stdout"
        }
      ]
    },
    {
      "cell_type": "code",
      "metadata": {
        "id": "F1tWN3-u3Z9m",
        "colab_type": "code",
        "colab": {}
      },
      "source": [
        "base_data = pd.read_csv('/content/gdrive/My Drive/Colab Notebooks/Datasets/all_data_imputed_v2.csv')"
      ],
      "execution_count": 0,
      "outputs": []
    },
    {
      "cell_type": "code",
      "metadata": {
        "id": "A0ImNXoI1UXh",
        "colab_type": "code",
        "colab": {}
      },
      "source": [
        "# from google.colab import files\n",
        "# uploaded = files.upload()"
      ],
      "execution_count": 0,
      "outputs": []
    },
    {
      "cell_type": "code",
      "metadata": {
        "id": "MhnOAfun2p5s",
        "colab_type": "code",
        "outputId": "65c6aba7-43ea-4f1c-ce69-f853f8a8b139",
        "colab": {
          "base_uri": "https://localhost:8080/",
          "height": 224
        }
      },
      "source": [
        "base_data.head()"
      ],
      "execution_count": 27,
      "outputs": [
        {
          "output_type": "execute_result",
          "data": {
            "text/html": [
              "<div>\n",
              "<style scoped>\n",
              "    .dataframe tbody tr th:only-of-type {\n",
              "        vertical-align: middle;\n",
              "    }\n",
              "\n",
              "    .dataframe tbody tr th {\n",
              "        vertical-align: top;\n",
              "    }\n",
              "\n",
              "    .dataframe thead th {\n",
              "        text-align: right;\n",
              "    }\n",
              "</style>\n",
              "<table border=\"1\" class=\"dataframe\">\n",
              "  <thead>\n",
              "    <tr style=\"text-align: right;\">\n",
              "      <th></th>\n",
              "      <th>pca</th>\n",
              "      <th>pca2</th>\n",
              "      <th>pca3</th>\n",
              "      <th>pca4</th>\n",
              "      <th>pca5</th>\n",
              "      <th>pcaAst2</th>\n",
              "      <th>pcaBili1</th>\n",
              "      <th>pcaBili2</th>\n",
              "      <th>pcaAlb1</th>\n",
              "      <th>pcaAlb2</th>\n",
              "      <th>pcaCret1</th>\n",
              "      <th>pcaCret2</th>\n",
              "      <th>pcaBun1</th>\n",
              "      <th>pcaBun2</th>\n",
              "      <th>pcaCalc1</th>\n",
              "      <th>pcaCalc2</th>\n",
              "      <th>pcaPot1</th>\n",
              "      <th>pcaPot2</th>\n",
              "      <th>pcaTri1</th>\n",
              "      <th>pcaTri2</th>\n",
              "      <th>pcaChol1</th>\n",
              "      <th>pcaChol2</th>\n",
              "      <th>pcaPsa1</th>\n",
              "      <th>pcaPsa2</th>\n",
              "      <th>patient_age_at_testing</th>\n",
              "      <th>flag</th>\n",
              "    </tr>\n",
              "  </thead>\n",
              "  <tbody>\n",
              "    <tr>\n",
              "      <th>0</th>\n",
              "      <td>-0.272020</td>\n",
              "      <td>0.089488</td>\n",
              "      <td>-0.115672</td>\n",
              "      <td>0.260035</td>\n",
              "      <td>-0.235656</td>\n",
              "      <td>0.322995</td>\n",
              "      <td>-0.200813</td>\n",
              "      <td>-0.033523</td>\n",
              "      <td>-0.090682</td>\n",
              "      <td>0.642842</td>\n",
              "      <td>-0.329351</td>\n",
              "      <td>0.582260</td>\n",
              "      <td>1.285861</td>\n",
              "      <td>-0.709519</td>\n",
              "      <td>0.447429</td>\n",
              "      <td>0.258061</td>\n",
              "      <td>-0.019839</td>\n",
              "      <td>0.007717</td>\n",
              "      <td>0.508323</td>\n",
              "      <td>0.692666</td>\n",
              "      <td>0.612898</td>\n",
              "      <td>0.499460</td>\n",
              "      <td>-0.011648</td>\n",
              "      <td>0.011505</td>\n",
              "      <td>56</td>\n",
              "      <td>0</td>\n",
              "    </tr>\n",
              "    <tr>\n",
              "      <th>1</th>\n",
              "      <td>-0.649787</td>\n",
              "      <td>0.182214</td>\n",
              "      <td>0.253569</td>\n",
              "      <td>-0.370408</td>\n",
              "      <td>0.448481</td>\n",
              "      <td>-0.603204</td>\n",
              "      <td>-0.152054</td>\n",
              "      <td>0.439161</td>\n",
              "      <td>1.847543</td>\n",
              "      <td>-0.860586</td>\n",
              "      <td>-0.037816</td>\n",
              "      <td>0.035517</td>\n",
              "      <td>-0.017970</td>\n",
              "      <td>-0.501883</td>\n",
              "      <td>-0.320073</td>\n",
              "      <td>0.800673</td>\n",
              "      <td>-0.020492</td>\n",
              "      <td>0.010481</td>\n",
              "      <td>0.186357</td>\n",
              "      <td>0.158701</td>\n",
              "      <td>-0.156744</td>\n",
              "      <td>0.750189</td>\n",
              "      <td>-0.073155</td>\n",
              "      <td>0.032485</td>\n",
              "      <td>64</td>\n",
              "      <td>0</td>\n",
              "    </tr>\n",
              "    <tr>\n",
              "      <th>2</th>\n",
              "      <td>-0.315544</td>\n",
              "      <td>-0.093105</td>\n",
              "      <td>-0.411089</td>\n",
              "      <td>0.120362</td>\n",
              "      <td>-0.592809</td>\n",
              "      <td>0.367784</td>\n",
              "      <td>0.438954</td>\n",
              "      <td>-0.649337</td>\n",
              "      <td>-0.424506</td>\n",
              "      <td>-0.620331</td>\n",
              "      <td>0.019975</td>\n",
              "      <td>-0.275498</td>\n",
              "      <td>-0.278736</td>\n",
              "      <td>-0.460356</td>\n",
              "      <td>0.618280</td>\n",
              "      <td>-0.789309</td>\n",
              "      <td>-0.017415</td>\n",
              "      <td>0.017207</td>\n",
              "      <td>-0.070664</td>\n",
              "      <td>-0.316023</td>\n",
              "      <td>0.105490</td>\n",
              "      <td>-0.508263</td>\n",
              "      <td>-0.015399</td>\n",
              "      <td>-0.011731</td>\n",
              "      <td>80</td>\n",
              "      <td>0</td>\n",
              "    </tr>\n",
              "    <tr>\n",
              "      <th>3</th>\n",
              "      <td>-0.459661</td>\n",
              "      <td>0.083988</td>\n",
              "      <td>0.567058</td>\n",
              "      <td>-0.687981</td>\n",
              "      <td>1.094119</td>\n",
              "      <td>-1.388442</td>\n",
              "      <td>0.279143</td>\n",
              "      <td>0.391204</td>\n",
              "      <td>0.166388</td>\n",
              "      <td>1.954839</td>\n",
              "      <td>-0.149771</td>\n",
              "      <td>0.105662</td>\n",
              "      <td>0.242797</td>\n",
              "      <td>-0.543410</td>\n",
              "      <td>-1.030108</td>\n",
              "      <td>-0.429561</td>\n",
              "      <td>-0.025432</td>\n",
              "      <td>0.006510</td>\n",
              "      <td>-0.846294</td>\n",
              "      <td>0.361906</td>\n",
              "      <td>0.287969</td>\n",
              "      <td>1.923951</td>\n",
              "      <td>-0.035951</td>\n",
              "      <td>0.008174</td>\n",
              "      <td>72</td>\n",
              "      <td>1</td>\n",
              "    </tr>\n",
              "    <tr>\n",
              "      <th>4</th>\n",
              "      <td>0.211474</td>\n",
              "      <td>-0.354642</td>\n",
              "      <td>0.073608</td>\n",
              "      <td>-0.278167</td>\n",
              "      <td>-0.076342</td>\n",
              "      <td>0.065390</td>\n",
              "      <td>0.081724</td>\n",
              "      <td>-0.221122</td>\n",
              "      <td>-0.100420</td>\n",
              "      <td>0.111890</td>\n",
              "      <td>-0.284917</td>\n",
              "      <td>0.496284</td>\n",
              "      <td>-0.012076</td>\n",
              "      <td>-0.365363</td>\n",
              "      <td>0.113033</td>\n",
              "      <td>1.044685</td>\n",
              "      <td>-0.028871</td>\n",
              "      <td>0.007038</td>\n",
              "      <td>-0.708877</td>\n",
              "      <td>0.356156</td>\n",
              "      <td>-0.609857</td>\n",
              "      <td>-0.325561</td>\n",
              "      <td>0.556993</td>\n",
              "      <td>0.274383</td>\n",
              "      <td>61</td>\n",
              "      <td>1</td>\n",
              "    </tr>\n",
              "  </tbody>\n",
              "</table>\n",
              "</div>"
            ],
            "text/plain": [
              "    pcaAlp1   pcaAlp2   pcaAlt1  ...   pcaPsa2  patient_age_at_testing  flag\n",
              "0 -0.272020  0.089488 -0.115672  ...  0.011505                      56     0\n",
              "1 -0.649787  0.182214  0.253569  ...  0.032485                      64     0\n",
              "2 -0.315544 -0.093105 -0.411089  ... -0.011731                      80     0\n",
              "3 -0.459661  0.083988  0.567058  ...  0.008174                      72     1\n",
              "4  0.211474 -0.354642  0.073608  ...  0.274383                      61     1\n",
              "\n",
              "[5 rows x 26 columns]"
            ]
          },
          "metadata": {
            "tags": []
          },
          "execution_count": 27
        }
      ]
    },
    {
      "cell_type": "code",
      "metadata": {
        "id": "mCi51Oey5J1C",
        "colab_type": "code",
        "colab": {}
      },
      "source": [
        "X = base_data.iloc[:, :-1].values\n",
        "y = base_data.iloc[:, -1].values"
      ],
      "execution_count": 0,
      "outputs": []
    },
    {
      "cell_type": "code",
      "metadata": {
        "id": "0RV8PRdUJpW_",
        "colab_type": "code",
        "colab": {}
      },
      "source": [
        "#split datasets into training and test\n",
        "X_train, X_test, y_train, y_test = train_test_split(X, y, test_size=0.15, random_state=3)"
      ],
      "execution_count": 0,
      "outputs": []
    },
    {
      "cell_type": "code",
      "metadata": {
        "id": "7cOVNWOEH9rE",
        "colab_type": "code",
        "outputId": "e5a49083-daf4-442e-a8d5-81f916bccced",
        "colab": {
          "base_uri": "https://localhost:8080/",
          "height": 34
        }
      },
      "source": [
        "X_train.shape"
      ],
      "execution_count": 30,
      "outputs": [
        {
          "output_type": "execute_result",
          "data": {
            "text/plain": [
              "(144125, 25)"
            ]
          },
          "metadata": {
            "tags": []
          },
          "execution_count": 30
        }
      ]
    },
    {
      "cell_type": "code",
      "metadata": {
        "id": "2eYbUP6Q4UhS",
        "colab_type": "code",
        "colab": {}
      },
      "source": [
        "model = Sequential()"
      ],
      "execution_count": 0,
      "outputs": []
    },
    {
      "cell_type": "code",
      "metadata": {
        "id": "5ZqKjdr440gi",
        "colab_type": "code",
        "colab": {}
      },
      "source": [
        "model.add(Dense(units = 64, activation = 'relu', input_shape = (25,)))\n",
        "model.add(Dense(units = 32, activation= 'relu'))\n",
        "model.add(Dense(units = 16, activation= 'relu'))\n",
        "model.add(Dense(units = 8, activation= 'relu'))\n",
        "model.add(Dense(units = 4, activation= 'relu'))\n",
        "model.add(Dense(units= 1, activation='sigmoid'))"
      ],
      "execution_count": 0,
      "outputs": []
    },
    {
      "cell_type": "code",
      "metadata": {
        "id": "SFkdSu-OkivD",
        "colab_type": "code",
        "colab": {}
      },
      "source": [
        "Sgd = SGD(learning_rate= 0.01, momentum= 0.9)\n",
        "adaGrad = Adagrad(learning_rate= 0.01)\n",
        "adaDelta = Adadelta(learning_rate= 0.5, rho = 0.99)\n",
        "adam = Adam(learning_rate= 0.01, beta_1 = 0.9, beta_2 = 0.99)"
      ],
      "execution_count": 0,
      "outputs": []
    },
    {
      "cell_type": "code",
      "metadata": {
        "id": "VRu1cYm9Mlua",
        "colab_type": "code",
        "colab": {
          "base_uri": "https://localhost:8080/",
          "height": 374
        },
        "outputId": "665c1f5b-d91e-48ff-ae8d-a3b1ceac4f2c"
      },
      "source": [
        "model.compile(optimizer= Sgd, loss= 'binary_crossentropy', metrics= ['accuracy'])\n",
        "model.fit(X_train, y_train, batch_size= 128, epochs= 10, verbose= 1)"
      ],
      "execution_count": 48,
      "outputs": [
        {
          "output_type": "stream",
          "text": [
            "Epoch 1/10\n",
            "144125/144125 [==============================] - 1s 10us/step - loss: 0.5428 - accuracy: 0.7620\n",
            "Epoch 2/10\n",
            "144125/144125 [==============================] - 1s 9us/step - loss: 0.5484 - accuracy: 0.7621\n",
            "Epoch 3/10\n",
            "144125/144125 [==============================] - 1s 9us/step - loss: 0.5486 - accuracy: 0.7621\n",
            "Epoch 4/10\n",
            "144125/144125 [==============================] - 1s 9us/step - loss: 0.5413 - accuracy: 0.7623\n",
            "Epoch 5/10\n",
            "144125/144125 [==============================] - 1s 9us/step - loss: 0.5234 - accuracy: 0.7626\n",
            "Epoch 6/10\n",
            "144125/144125 [==============================] - 1s 9us/step - loss: 0.5197 - accuracy: 0.7628\n",
            "Epoch 7/10\n",
            "144125/144125 [==============================] - 1s 9us/step - loss: 0.5146 - accuracy: 0.7629\n",
            "Epoch 8/10\n",
            "144125/144125 [==============================] - 1s 9us/step - loss: 0.5094 - accuracy: 0.7632\n",
            "Epoch 9/10\n",
            "144125/144125 [==============================] - 1s 9us/step - loss: 0.5042 - accuracy: 0.7636\n",
            "Epoch 10/10\n",
            "144125/144125 [==============================] - 1s 9us/step - loss: 0.5037 - accuracy: 0.7639\n"
          ],
          "name": "stdout"
        },
        {
          "output_type": "execute_result",
          "data": {
            "text/plain": [
              "<keras.callbacks.callbacks.History at 0x7fbb6526a630>"
            ]
          },
          "metadata": {
            "tags": []
          },
          "execution_count": 48
        }
      ]
    },
    {
      "cell_type": "code",
      "metadata": {
        "id": "C5TlTJ6slm5M",
        "colab_type": "code",
        "colab": {
          "base_uri": "https://localhost:8080/",
          "height": 374
        },
        "outputId": "523c549f-3921-4979-d604-6314dc325193"
      },
      "source": [
        "model.compile(optimizer= adaGrad, loss= 'binary_crossentropy', metrics= ['accuracy'])\n",
        "model.fit(X_train, y_train, batch_size= 128, epochs= 10)"
      ],
      "execution_count": 51,
      "outputs": [
        {
          "output_type": "stream",
          "text": [
            "Epoch 1/10\n",
            "144125/144125 [==============================] - 1s 10us/step - loss: 0.5110 - accuracy: 0.7635\n",
            "Epoch 2/10\n",
            "144125/144125 [==============================] - 1s 10us/step - loss: 0.4710 - accuracy: 0.7868\n",
            "Epoch 3/10\n",
            "144125/144125 [==============================] - 1s 10us/step - loss: 0.4384 - accuracy: 0.8043\n",
            "Epoch 4/10\n",
            "144125/144125 [==============================] - 1s 10us/step - loss: 0.4191 - accuracy: 0.8113\n",
            "Epoch 5/10\n",
            "144125/144125 [==============================] - 1s 10us/step - loss: 0.4047 - accuracy: 0.8166\n",
            "Epoch 6/10\n",
            "144125/144125 [==============================] - 1s 10us/step - loss: 0.3879 - accuracy: 0.8265\n",
            "Epoch 7/10\n",
            "144125/144125 [==============================] - 1s 10us/step - loss: 0.3656 - accuracy: 0.8432\n",
            "Epoch 8/10\n",
            "144125/144125 [==============================] - 1s 10us/step - loss: 0.3370 - accuracy: 0.8656\n",
            "Epoch 9/10\n",
            "144125/144125 [==============================] - 1s 10us/step - loss: 0.3137 - accuracy: 0.8815\n",
            "Epoch 10/10\n",
            "144125/144125 [==============================] - 1s 10us/step - loss: 0.2989 - accuracy: 0.8895\n"
          ],
          "name": "stdout"
        },
        {
          "output_type": "execute_result",
          "data": {
            "text/plain": [
              "<keras.callbacks.callbacks.History at 0x7fbb6526a208>"
            ]
          },
          "metadata": {
            "tags": []
          },
          "execution_count": 51
        }
      ]
    },
    {
      "cell_type": "code",
      "metadata": {
        "id": "E2k_LKYPQokp",
        "colab_type": "code",
        "outputId": "918be6b1-fe7b-40dc-968c-91875388909e",
        "colab": {
          "base_uri": "https://localhost:8080/",
          "height": 374
        }
      },
      "source": [
        "model.compile(optimizer= adaDelta, loss= 'binary_crossentropy', metrics= ['accuracy'])\n",
        "model.fit(X_train, y_train, batch_size= 128, epochs= 10)"
      ],
      "execution_count": 54,
      "outputs": [
        {
          "output_type": "stream",
          "text": [
            "Epoch 1/10\n",
            "144125/144125 [==============================] - 2s 11us/step - loss: 0.5632 - accuracy: 0.7576\n",
            "Epoch 2/10\n",
            "144125/144125 [==============================] - 1s 10us/step - loss: 0.4984 - accuracy: 0.7668\n",
            "Epoch 3/10\n",
            "144125/144125 [==============================] - 1s 10us/step - loss: 0.4742 - accuracy: 0.7818\n",
            "Epoch 4/10\n",
            "144125/144125 [==============================] - 1s 10us/step - loss: 0.4443 - accuracy: 0.8053\n",
            "Epoch 5/10\n",
            "144125/144125 [==============================] - 1s 10us/step - loss: 0.4331 - accuracy: 0.8025\n",
            "Epoch 6/10\n",
            "144125/144125 [==============================] - 1s 10us/step - loss: 0.4065 - accuracy: 0.8245\n",
            "Epoch 7/10\n",
            "144125/144125 [==============================] - 1s 10us/step - loss: 0.3274 - accuracy: 0.8742\n",
            "Epoch 8/10\n",
            "144125/144125 [==============================] - 1s 10us/step - loss: 0.2828 - accuracy: 0.8962\n",
            "Epoch 9/10\n",
            "144125/144125 [==============================] - 1s 10us/step - loss: 0.2707 - accuracy: 0.8992\n",
            "Epoch 10/10\n",
            "144125/144125 [==============================] - 1s 10us/step - loss: 0.2595 - accuracy: 0.9032\n"
          ],
          "name": "stdout"
        },
        {
          "output_type": "execute_result",
          "data": {
            "text/plain": [
              "<keras.callbacks.callbacks.History at 0x7fbb64e587f0>"
            ]
          },
          "metadata": {
            "tags": []
          },
          "execution_count": 54
        }
      ]
    },
    {
      "cell_type": "code",
      "metadata": {
        "id": "qWDW-x7Rlvh8",
        "colab_type": "code",
        "colab": {
          "base_uri": "https://localhost:8080/",
          "height": 374
        },
        "outputId": "b6c4d46d-52b6-46b4-929f-4193c047c7d7"
      },
      "source": [
        "model.compile(optimizer= adam, loss= 'binary_crossentropy', metrics= ['accuracy'])\n",
        "model.fit(X_train, y_train, batch_size= 128, epochs= 10)"
      ],
      "execution_count": 55,
      "outputs": [
        {
          "output_type": "stream",
          "text": [
            "Epoch 1/10\n",
            "144125/144125 [==============================] - 2s 11us/step - loss: 0.2857 - accuracy: 0.8946\n",
            "Epoch 2/10\n",
            "144125/144125 [==============================] - 1s 10us/step - loss: 0.2549 - accuracy: 0.9074\n",
            "Epoch 3/10\n",
            "144125/144125 [==============================] - 1s 10us/step - loss: 0.2377 - accuracy: 0.9132\n",
            "Epoch 4/10\n",
            "144125/144125 [==============================] - 1s 10us/step - loss: 0.2276 - accuracy: 0.9166\n",
            "Epoch 5/10\n",
            "144125/144125 [==============================] - 1s 10us/step - loss: 0.2219 - accuracy: 0.9183\n",
            "Epoch 6/10\n",
            "144125/144125 [==============================] - 1s 10us/step - loss: 0.2195 - accuracy: 0.9185\n",
            "Epoch 7/10\n",
            "144125/144125 [==============================] - 1s 10us/step - loss: 0.2156 - accuracy: 0.9202\n",
            "Epoch 8/10\n",
            "144125/144125 [==============================] - 1s 10us/step - loss: 0.2122 - accuracy: 0.9204\n",
            "Epoch 9/10\n",
            "144125/144125 [==============================] - 1s 10us/step - loss: 0.2092 - accuracy: 0.9207\n",
            "Epoch 10/10\n",
            "144125/144125 [==============================] - 1s 10us/step - loss: 0.2080 - accuracy: 0.9218\n"
          ],
          "name": "stdout"
        },
        {
          "output_type": "execute_result",
          "data": {
            "text/plain": [
              "<keras.callbacks.callbacks.History at 0x7fbb64d656d8>"
            ]
          },
          "metadata": {
            "tags": []
          },
          "execution_count": 55
        }
      ]
    },
    {
      "cell_type": "code",
      "metadata": {
        "id": "72zx3MGrRIu_",
        "colab_type": "code",
        "outputId": "729ea94a-416c-469d-dbcb-498dca02277c",
        "colab": {
          "base_uri": "https://localhost:8080/",
          "height": 34
        }
      },
      "source": [
        "loss_and_metrics = model.evaluate(X_test, y_test, batch_size=128)"
      ],
      "execution_count": 0,
      "outputs": [
        {
          "output_type": "stream",
          "text": [
            "25434/25434 [==============================] - 0s 6us/step\n"
          ],
          "name": "stdout"
        }
      ]
    },
    {
      "cell_type": "code",
      "metadata": {
        "id": "C3chu42cUSDU",
        "colab_type": "code",
        "outputId": "94badefd-e32b-4348-bbf0-5576507e3153",
        "colab": {
          "base_uri": "https://localhost:8080/",
          "height": 34
        }
      },
      "source": [
        "print(loss_and_metrics)"
      ],
      "execution_count": 0,
      "outputs": [
        {
          "output_type": "stream",
          "text": [
            "[0.2944427154682301, 0.8707242012023926]\n"
          ],
          "name": "stdout"
        }
      ]
    },
    {
      "cell_type": "code",
      "metadata": {
        "id": "qvOdivpLUesx",
        "colab_type": "code",
        "colab": {}
      },
      "source": [
        ""
      ],
      "execution_count": 0,
      "outputs": []
    }
  ]
}
